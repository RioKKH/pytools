{
 "cells": [
  {
   "cell_type": "code",
   "execution_count": 58,
   "id": "e5ec9ac8-1fc2-4e6e-9d6d-6a3b014746ad",
   "metadata": {},
   "outputs": [],
   "source": [
    "%autoreload\n",
    "import numpy as np\n",
    "from imgproc import imgproc"
   ]
  },
  {
   "cell_type": "code",
   "execution_count": 2,
   "id": "8a2addcf-8f3d-4062-aa9c-63471273330e",
   "metadata": {},
   "outputs": [],
   "source": [
    "ip = imgproc()"
   ]
  },
  {
   "cell_type": "code",
   "execution_count": 50,
   "id": "be53e442-a883-419f-b487-4e22f8fc0057",
   "metadata": {},
   "outputs": [],
   "source": [
    "img2d = np.array([[1,  2, 3, 4],\n",
    "                  [5,  6, 7, 8],\n",
    "                  [9, 10,11,12],\n",
    "                  [13,14,15,16]])\n"
   ]
  },
  {
   "cell_type": "code",
   "execution_count": 4,
   "id": "fbd4b756-ffec-48da-910e-56bd6813df0d",
   "metadata": {},
   "outputs": [
    {
     "name": "stdout",
     "output_type": "stream",
     "text": [
      "[[ 1.  2.  3.  5.  6.  7.  9. 10. 11.]\n",
      " [ 2.  3.  4.  6.  7.  8. 10. 11. 12.]\n",
      " [ 5.  6.  7.  9. 10. 11. 13. 14. 15.]\n",
      " [ 6.  7.  8. 10. 11. 12. 14. 15. 16.]]\n"
     ]
    }
   ],
   "source": [
    "cols = ip.im2col_simple(img2d, 2, 2, 3, 3)\n",
    "print(cols)"
   ]
  },
  {
   "cell_type": "code",
   "execution_count": null,
   "id": "4872add7-d83e-4245-b724-d75e8794d403",
   "metadata": {},
   "outputs": [],
   "source": [
    "cols = ip.im2col_fast(img2d, 2, 2, 3, 3)\n",
    "print(cols)"
   ]
  },
  {
   "cell_type": "code",
   "execution_count": null,
   "id": "7f2f9097-fb12-4fb8-97a4-e63478da990b",
   "metadata": {},
   "outputs": [],
   "source": [
    "%autoreload\n",
    "img_shape = (4, 4)\n",
    "ip.col2im_fast(cols, img_shape, 2, 2, 3, 3)"
   ]
  },
  {
   "cell_type": "code",
   "execution_count": 29,
   "id": "839a4a3e-67c5-497f-87d2-2e8eaa376c82",
   "metadata": {},
   "outputs": [],
   "source": [
    "img4d = np.array([[[[1, 2, 3, 4],\n",
    "                    [5, 6, 7, 8],\n",
    "                    [9, 10, 11, 12],\n",
    "                    [13, 14, 15, 16]]]])"
   ]
  },
  {
   "cell_type": "code",
   "execution_count": 31,
   "id": "d28d89fc-3a07-4d51-a2d0-f906d9857f88",
   "metadata": {},
   "outputs": [
    {
     "name": "stdout",
     "output_type": "stream",
     "text": [
      "[[ 1.  3.  9. 11.]\n",
      " [ 2.  4. 10. 12.]\n",
      " [ 5.  7. 13. 15.]\n",
      " [ 6.  8. 14. 16.]]\n"
     ]
    }
   ],
   "source": [
    "cols = ip.im2col(img4d, 2, 2, 2, 2, 2, 0)\n",
    "print(cols)"
   ]
  },
  {
   "cell_type": "code",
   "execution_count": 34,
   "id": "b26284af-f64d-4e15-b600-9e665ad256ec",
   "metadata": {},
   "outputs": [
    {
     "data": {
      "text/plain": [
       "array([ 6.,  8., 14., 16.])"
      ]
     },
     "execution_count": 34,
     "metadata": {},
     "output_type": "execute_result"
    }
   ],
   "source": [
    "np.max(cols, axis=0)"
   ]
  },
  {
   "cell_type": "code",
   "execution_count": 39,
   "id": "8b74ba53-1e87-4037-8d10-a9cf1ed9ff9d",
   "metadata": {},
   "outputs": [
    {
     "ename": "ValueError",
     "evalue": "non-broadcastable output operand with shape (1,1,2,1) doesn't match the broadcast shape (1,1,2,2)",
     "output_type": "error",
     "traceback": [
      "\u001b[0;31m---------------------------------------------------------------------------\u001b[0m",
      "\u001b[0;31mValueError\u001b[0m                                Traceback (most recent call last)",
      "Cell \u001b[0;32mIn [39], line 2\u001b[0m\n\u001b[1;32m      1\u001b[0m img_shape \u001b[38;5;241m=\u001b[39m (\u001b[38;5;241m1\u001b[39m, \u001b[38;5;241m1\u001b[39m, \u001b[38;5;241m2\u001b[39m, \u001b[38;5;241m2\u001b[39m)\n\u001b[0;32m----> 2\u001b[0m images \u001b[38;5;241m=\u001b[39m \u001b[43mip\u001b[49m\u001b[38;5;241;43m.\u001b[39;49m\u001b[43mcol2im\u001b[49m\u001b[43m(\u001b[49m\u001b[43mcols\u001b[49m\u001b[43m,\u001b[49m\u001b[43m \u001b[49m\u001b[43mimg_shape\u001b[49m\u001b[43m,\u001b[49m\u001b[43m \u001b[49m\u001b[38;5;241;43m2\u001b[39;49m\u001b[43m,\u001b[49m\u001b[43m \u001b[49m\u001b[38;5;241;43m2\u001b[39;49m\u001b[43m,\u001b[49m\u001b[43m \u001b[49m\u001b[38;5;241;43m2\u001b[39;49m\u001b[43m,\u001b[49m\u001b[43m \u001b[49m\u001b[38;5;241;43m2\u001b[39;49m\u001b[43m,\u001b[49m\u001b[43m \u001b[49m\u001b[38;5;241;43m1\u001b[39;49m\u001b[43m,\u001b[49m\u001b[43m \u001b[49m\u001b[38;5;241;43m0\u001b[39;49m\u001b[43m)\u001b[49m\n",
      "File \u001b[0;32m~/work/git/pytools/texture/imgproc.py:143\u001b[0m, in \u001b[0;36mimgproc.col2im\u001b[0;34m(self, cols, img_shape, flt_h, flt_w, out_h, out_w, stride, pad)\u001b[0m\n\u001b[1;32m    141\u001b[0m         w_lim \u001b[38;5;241m=\u001b[39m w \u001b[38;5;241m+\u001b[39m stride\u001b[38;5;241m*\u001b[39mout_w\n\u001b[1;32m    142\u001b[0m         \u001b[38;5;66;03m# imagesにcolsにおけるフィルタの該当箇所を格納する\u001b[39;00m\n\u001b[0;32m--> 143\u001b[0m         images[:, :, h:h_lim:stride,\n\u001b[1;32m    144\u001b[0m                w:w_lim:stride] \u001b[38;5;241m+\u001b[39m\u001b[38;5;241m=\u001b[39m cols[:, :, h, w, :, :]\n\u001b[1;32m    146\u001b[0m \u001b[38;5;66;03m# 最後にパディング分をスライスにより取り除くと画像への変換は完了\u001b[39;00m\n\u001b[1;32m    147\u001b[0m \u001b[38;5;28;01mreturn\u001b[39;00m images[:, :, pad:img_h\u001b[38;5;241m+\u001b[39mpad, pad:img_w\u001b[38;5;241m+\u001b[39mpad]\n",
      "\u001b[0;31mValueError\u001b[0m: non-broadcastable output operand with shape (1,1,2,1) doesn't match the broadcast shape (1,1,2,2)"
     ]
    }
   ],
   "source": [
    "img_shape = (1, 1, 2, 2)\n",
    "images = ip.col2im(cols, img_shape, 2, 2, 2, 2, 1, 0)"
   ]
  },
  {
   "cell_type": "code",
   "execution_count": 33,
   "id": "6ed20430-7dab-45c3-a464-64cb7c3f9c7a",
   "metadata": {},
   "outputs": [
    {
     "name": "stdout",
     "output_type": "stream",
     "text": [
      "[[[[ 1.  2.  3.  4.]\n",
      "   [ 5.  6.  7.  8.]\n",
      "   [ 9. 10. 11. 12.]\n",
      "   [13. 14. 15. 16.]]]]\n"
     ]
    }
   ],
   "source": [
    "img_shape = (1, 1, 4, 4)\n",
    "# cols, img_shape, Fh, Fw, Oh, Ow, stride, padding\n",
    "images = ip.col2im(cols, img_shape, 2, 2, 2, 2, 2, 0)\n",
    "print(images)"
   ]
  },
  {
   "cell_type": "code",
   "execution_count": 43,
   "id": "14233275-44ab-4346-aac2-0932af69ad53",
   "metadata": {},
   "outputs": [],
   "source": [
    "img = np.zeros((1, 1, 10, 10))"
   ]
  },
  {
   "cell_type": "code",
   "execution_count": 47,
   "id": "c1835dc0-7ea1-45c6-a7db-3f2fe987e432",
   "metadata": {},
   "outputs": [],
   "source": [
    "x = [x for x in range(1, 10)]"
   ]
  },
  {
   "cell_type": "code",
   "execution_count": 48,
   "id": "2ac11375-d19b-4464-9a72-e58a30e75883",
   "metadata": {},
   "outputs": [
    {
     "data": {
      "text/plain": [
       "[1, 2, 3, 4, 5, 6, 7, 8, 9]"
      ]
     },
     "execution_count": 48,
     "metadata": {},
     "output_type": "execute_result"
    }
   ],
   "source": [
    "x"
   ]
  },
  {
   "cell_type": "code",
   "execution_count": 49,
   "id": "4c59a648-ce3c-4849-b3d4-f194a8e4b129",
   "metadata": {},
   "outputs": [
    {
     "data": {
      "text/plain": [
       "[1, 3, 5, 7, 9]"
      ]
     },
     "execution_count": 49,
     "metadata": {},
     "output_type": "execute_result"
    }
   ],
   "source": [
    "x[0:10:2]"
   ]
  },
  {
   "cell_type": "code",
   "execution_count": null,
   "id": "62762d86-9219-4238-b8ae-2f7e62ba27cf",
   "metadata": {},
   "outputs": [],
   "source": []
  }
 ],
 "metadata": {
  "kernelspec": {
   "display_name": "Python 3 (ipykernel)",
   "language": "python",
   "name": "python3"
  },
  "language_info": {
   "codemirror_mode": {
    "name": "ipython",
    "version": 3
   },
   "file_extension": ".py",
   "mimetype": "text/x-python",
   "name": "python",
   "nbconvert_exporter": "python",
   "pygments_lexer": "ipython3",
   "version": "3.10.6"
  }
 },
 "nbformat": 4,
 "nbformat_minor": 5
}
