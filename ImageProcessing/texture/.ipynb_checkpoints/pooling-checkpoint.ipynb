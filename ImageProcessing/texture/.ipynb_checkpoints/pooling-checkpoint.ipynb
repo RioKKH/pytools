{
 "cells": [
  {
   "cell_type": "code",
   "execution_count": 25,
   "id": "e5ec9ac8-1fc2-4e6e-9d6d-6a3b014746ad",
   "metadata": {},
   "outputs": [],
   "source": [
    "%autoreload\n",
    "import numpy as np\n",
    "import imgproc\n",
    "from pooling import Pooling"
   ]
  },
  {
   "cell_type": "code",
   "execution_count": 8,
   "id": "be53e442-a883-419f-b487-4e22f8fc0057",
   "metadata": {},
   "outputs": [],
   "source": [
    "img2d = np.array([[1,  2, 3, 4],\n",
    "                  [5,  6, 7, 8],\n",
    "                  [9, 10,11,12],\n",
    "                  [13,14,15,16]])\n"
   ]
  },
  {
   "cell_type": "code",
   "execution_count": 10,
   "id": "4872add7-d83e-4245-b724-d75e8794d403",
   "metadata": {},
   "outputs": [
    {
     "name": "stdout",
     "output_type": "stream",
     "text": [
      "[[ 1.  2.  3.  5.  6.  7.  9. 10. 11.]\n",
      " [ 2.  3.  4.  6.  7.  8. 10. 11. 12.]\n",
      " [ 5.  6.  7.  9. 10. 11. 13. 14. 15.]\n",
      " [ 6.  7.  8. 10. 11. 12. 14. 15. 16.]]\n"
     ]
    }
   ],
   "source": [
    "cols = ip.im2col_fast(img2d, 2, 2, 3, 3)\n",
    "print(cols)"
   ]
  },
  {
   "cell_type": "code",
   "execution_count": 6,
   "id": "7f2f9097-fb12-4fb8-97a4-e63478da990b",
   "metadata": {},
   "outputs": [
    {
     "ename": "ValueError",
     "evalue": "operands could not be broadcast together with shapes (3,3) (2,2) (3,3) ",
     "output_type": "error",
     "traceback": [
      "\u001b[0;31m---------------------------------------------------------------------------\u001b[0m",
      "\u001b[0;31mValueError\u001b[0m                                Traceback (most recent call last)",
      "Cell \u001b[0;32mIn [6], line 3\u001b[0m\n\u001b[1;32m      1\u001b[0m get_ipython()\u001b[38;5;241m.\u001b[39mrun_line_magic(\u001b[38;5;124m'\u001b[39m\u001b[38;5;124mautoreload\u001b[39m\u001b[38;5;124m'\u001b[39m, \u001b[38;5;124m'\u001b[39m\u001b[38;5;124m'\u001b[39m)\n\u001b[1;32m      2\u001b[0m img_shape \u001b[38;5;241m=\u001b[39m (\u001b[38;5;241m4\u001b[39m, \u001b[38;5;241m4\u001b[39m)\n\u001b[0;32m----> 3\u001b[0m \u001b[43mip\u001b[49m\u001b[38;5;241;43m.\u001b[39;49m\u001b[43mcol2im_fast\u001b[49m\u001b[43m(\u001b[49m\u001b[43mcols\u001b[49m\u001b[43m,\u001b[49m\u001b[43m \u001b[49m\u001b[43mimg_shape\u001b[49m\u001b[43m,\u001b[49m\u001b[43m \u001b[49m\u001b[38;5;241;43m2\u001b[39;49m\u001b[43m,\u001b[49m\u001b[43m \u001b[49m\u001b[38;5;241;43m2\u001b[39;49m\u001b[43m,\u001b[49m\u001b[43m \u001b[49m\u001b[38;5;241;43m3\u001b[39;49m\u001b[43m,\u001b[49m\u001b[43m \u001b[49m\u001b[38;5;241;43m3\u001b[39;49m\u001b[43m)\u001b[49m\n",
      "File \u001b[0;32m~/work/git/pytools/texture/imgproc.py:162\u001b[0m, in \u001b[0;36mimgproc.col2im_fast\u001b[0;34m(self, cols, img_shape, flt_h, flt_w, out_h, out_w)\u001b[0m\n\u001b[1;32m    160\u001b[0m     \u001b[38;5;28;01mfor\u001b[39;00m w \u001b[38;5;129;01min\u001b[39;00m \u001b[38;5;28mrange\u001b[39m(flt_w):\n\u001b[1;32m    161\u001b[0m         w_lim \u001b[38;5;241m=\u001b[39m w \u001b[38;5;241m+\u001b[39m out_w\n\u001b[0;32m--> 162\u001b[0m         images[h:h_lim, w:w_lim] \u001b[38;5;241m+\u001b[39m\u001b[38;5;241m=\u001b[39m cols[:, :, h, w]\n\u001b[1;32m    164\u001b[0m \u001b[38;5;28;01mreturn\u001b[39;00m images\n",
      "\u001b[0;31mValueError\u001b[0m: operands could not be broadcast together with shapes (3,3) (2,2) (3,3) "
     ]
    }
   ],
   "source": [
    "%autoreload\n",
    "img_shape = (4, 4)\n",
    "ip.col2im_fast(cols, img_shape, 2, 2, 3, 3)"
   ]
  },
  {
   "cell_type": "code",
   "execution_count": 12,
   "id": "839a4a3e-67c5-497f-87d2-2e8eaa376c82",
   "metadata": {},
   "outputs": [],
   "source": [
    "img4d = np.array([[[[1, 2, 3, 4],\n",
    "                    [5, 6, 7, 8],\n",
    "                    [9, 10, 11, 12],\n",
    "                    [13, 14, 15, 16]]]])"
   ]
  },
  {
   "cell_type": "code",
   "execution_count": 18,
   "id": "d28d89fc-3a07-4d51-a2d0-f906d9857f88",
   "metadata": {},
   "outputs": [
    {
     "name": "stdout",
     "output_type": "stream",
     "text": [
      "[[ 1.  3.  9. 11.]\n",
      " [ 2.  4. 10. 12.]\n",
      " [ 5.  7. 13. 15.]\n",
      " [ 6.  8. 14. 16.]]\n",
      "[ 1.  3.  9. 11.  2.  4. 10. 12.  5.  7. 13. 15.  6.  8. 14. 16.]\n"
     ]
    }
   ],
   "source": [
    "cols = ip.im2col(img4d, 2, 2, 2, 2, 2, 0)\n",
    "print(cols)\n",
    "print(cols.reshape(-1))"
   ]
  },
  {
   "cell_type": "code",
   "execution_count": 14,
   "id": "b26284af-f64d-4e15-b600-9e665ad256ec",
   "metadata": {},
   "outputs": [
    {
     "data": {
      "text/plain": [
       "array([ 6.,  8., 14., 16.])"
      ]
     },
     "execution_count": 14,
     "metadata": {},
     "output_type": "execute_result"
    }
   ],
   "source": [
    "np.max(cols, axis=0)"
   ]
  },
  {
   "cell_type": "code",
   "execution_count": 39,
   "id": "8b74ba53-1e87-4037-8d10-a9cf1ed9ff9d",
   "metadata": {},
   "outputs": [
    {
     "ename": "ValueError",
     "evalue": "non-broadcastable output operand with shape (1,1,2,1) doesn't match the broadcast shape (1,1,2,2)",
     "output_type": "error",
     "traceback": [
      "\u001b[0;31m---------------------------------------------------------------------------\u001b[0m",
      "\u001b[0;31mValueError\u001b[0m                                Traceback (most recent call last)",
      "Cell \u001b[0;32mIn [39], line 2\u001b[0m\n\u001b[1;32m      1\u001b[0m img_shape \u001b[38;5;241m=\u001b[39m (\u001b[38;5;241m1\u001b[39m, \u001b[38;5;241m1\u001b[39m, \u001b[38;5;241m2\u001b[39m, \u001b[38;5;241m2\u001b[39m)\n\u001b[0;32m----> 2\u001b[0m images \u001b[38;5;241m=\u001b[39m \u001b[43mip\u001b[49m\u001b[38;5;241;43m.\u001b[39;49m\u001b[43mcol2im\u001b[49m\u001b[43m(\u001b[49m\u001b[43mcols\u001b[49m\u001b[43m,\u001b[49m\u001b[43m \u001b[49m\u001b[43mimg_shape\u001b[49m\u001b[43m,\u001b[49m\u001b[43m \u001b[49m\u001b[38;5;241;43m2\u001b[39;49m\u001b[43m,\u001b[49m\u001b[43m \u001b[49m\u001b[38;5;241;43m2\u001b[39;49m\u001b[43m,\u001b[49m\u001b[43m \u001b[49m\u001b[38;5;241;43m2\u001b[39;49m\u001b[43m,\u001b[49m\u001b[43m \u001b[49m\u001b[38;5;241;43m2\u001b[39;49m\u001b[43m,\u001b[49m\u001b[43m \u001b[49m\u001b[38;5;241;43m1\u001b[39;49m\u001b[43m,\u001b[49m\u001b[43m \u001b[49m\u001b[38;5;241;43m0\u001b[39;49m\u001b[43m)\u001b[49m\n",
      "File \u001b[0;32m~/work/git/pytools/texture/imgproc.py:143\u001b[0m, in \u001b[0;36mimgproc.col2im\u001b[0;34m(self, cols, img_shape, flt_h, flt_w, out_h, out_w, stride, pad)\u001b[0m\n\u001b[1;32m    141\u001b[0m         w_lim \u001b[38;5;241m=\u001b[39m w \u001b[38;5;241m+\u001b[39m stride\u001b[38;5;241m*\u001b[39mout_w\n\u001b[1;32m    142\u001b[0m         \u001b[38;5;66;03m# imagesにcolsにおけるフィルタの該当箇所を格納する\u001b[39;00m\n\u001b[0;32m--> 143\u001b[0m         images[:, :, h:h_lim:stride,\n\u001b[1;32m    144\u001b[0m                w:w_lim:stride] \u001b[38;5;241m+\u001b[39m\u001b[38;5;241m=\u001b[39m cols[:, :, h, w, :, :]\n\u001b[1;32m    146\u001b[0m \u001b[38;5;66;03m# 最後にパディング分をスライスにより取り除くと画像への変換は完了\u001b[39;00m\n\u001b[1;32m    147\u001b[0m \u001b[38;5;28;01mreturn\u001b[39;00m images[:, :, pad:img_h\u001b[38;5;241m+\u001b[39mpad, pad:img_w\u001b[38;5;241m+\u001b[39mpad]\n",
      "\u001b[0;31mValueError\u001b[0m: non-broadcastable output operand with shape (1,1,2,1) doesn't match the broadcast shape (1,1,2,2)"
     ]
    }
   ],
   "source": [
    "img_shape = (1, 1, 2, 2)\n",
    "images = ip.col2im(cols, img_shape, 2, 2, 2, 2, 1, 0)"
   ]
  },
  {
   "cell_type": "code",
   "execution_count": 33,
   "id": "6ed20430-7dab-45c3-a464-64cb7c3f9c7a",
   "metadata": {},
   "outputs": [
    {
     "name": "stdout",
     "output_type": "stream",
     "text": [
      "[[[[ 1.  2.  3.  4.]\n",
      "   [ 5.  6.  7.  8.]\n",
      "   [ 9. 10. 11. 12.]\n",
      "   [13. 14. 15. 16.]]]]\n"
     ]
    }
   ],
   "source": [
    "img_shape = (1, 1, 4, 4)\n",
    "# cols, img_shape, Fh, Fw, Oh, Ow, stride, padding\n",
    "images = ip.col2im(cols, img_shape, 2, 2, 2, 2, 2, 0)\n",
    "print(images)"
   ]
  },
  {
   "cell_type": "code",
   "execution_count": 41,
   "id": "6bc567e5-9292-4ac0-b783-a4fff72b4030",
   "metadata": {},
   "outputs": [],
   "source": [
    "%autoreload\n",
    "#x_ch, x_h, x_w, pool, pad\n",
    "p = Pooling(1, 4, 4, 2, 0)"
   ]
  },
  {
   "cell_type": "code",
   "execution_count": 63,
   "id": "d8d4c702-da6c-42cb-91b6-1f83b2a7fccb",
   "metadata": {},
   "outputs": [
    {
     "name": "stdout",
     "output_type": "stream",
     "text": [
      "[[ 1.  2.  5.  6.]\n",
      " [ 3.  4.  7.  8.]\n",
      " [ 9. 10. 13. 14.]\n",
      " [11. 12. 15. 16.]]\n"
     ]
    },
    {
     "data": {
      "text/plain": [
       "array([[ 6.,  8.],\n",
       "       [14., 16.]])"
      ]
     },
     "execution_count": 63,
     "metadata": {},
     "output_type": "execute_result"
    }
   ],
   "source": [
    "%autoreload\n",
    "p.maxpooling(img4d)"
   ]
  },
  {
   "cell_type": "code",
   "execution_count": null,
   "id": "f82fff72-6a24-4c29-ab7f-e5af4cfddc1f",
   "metadata": {},
   "outputs": [],
   "source": []
  }
 ],
 "metadata": {
  "kernelspec": {
   "display_name": "Python 3 (ipykernel)",
   "language": "python",
   "name": "python3"
  },
  "language_info": {
   "codemirror_mode": {
    "name": "ipython",
    "version": 3
   },
   "file_extension": ".py",
   "mimetype": "text/x-python",
   "name": "python",
   "nbconvert_exporter": "python",
   "pygments_lexer": "ipython3",
   "version": "3.10.6"
  }
 },
 "nbformat": 4,
 "nbformat_minor": 5
}
