get_ipython().run_line_magic("autoreload", "")
import numpy as np
import imgproc
from pooling import Pooling


img2d = np.array([[1,  2, 3, 4],
                  [5,  6, 7, 8],
                  [9, 10,11,12],
                  [13,14,15,16]])



cols = ip.im2col_fast(img2d, 2, 2, 3, 3)
print(cols)


get_ipython().run_line_magic("autoreload", "")
img_shape = (4, 4)
ip.col2im_fast(cols, img_shape, 2, 2, 3, 3)


img4d = np.array([[[[1, 2, 3, 4],
                    [5, 6, 7, 8],
                    [9, 10, 11, 12],
                    [13, 14, 15, 16]]]])


cols = ip.im2col(img4d, 2, 2, 2, 2, 2, 0)
print(cols)
print(cols.reshape(-1))


np.max(cols, axis=0)


img_shape = (1, 1, 2, 2)
images = ip.col2im(cols, img_shape, 2, 2, 2, 2, 1, 0)


img_shape = (1, 1, 4, 4)
# cols, img_shape, Fh, Fw, Oh, Ow, stride, padding
images = ip.col2im(cols, img_shape, 2, 2, 2, 2, 2, 0)
print(images)


get_ipython().run_line_magic("autoreload", "")
#x_ch, x_h, x_w, pool, pad
p = Pooling(1, 4, 4, 2, 0)


get_ipython().run_line_magic("autoreload", "")
p.maxpooling(img4d)



