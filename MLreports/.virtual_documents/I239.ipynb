get_ipython().run_line_magic("load_ext", " autoreload")











rf = RandomForestModel()
rf.run()


rf.run()


rf.plot_images()





from hog_random_forest import HOGRandomForestModel


hog_rf = HOGRandomForestModel()


hog_rf.run()


hog_rf.load_model("random_forest_model_hog.joblib")


hog_rf.plot_results()


hog_rf.plot_images()


get_ipython().run_line_magic("autoreload", " 2")
from hog_random_forest import HOGRandomForestModel
hog_rf = HOGRandomForestModel(n_trials=100)
hog_rf.run()


get_ipython().run_line_magic("autoreload", " 2")
from GLCM_random_forest import GLCMRandomForestModel
glcm_rf = GLCMRandomForestModel()


get_ipython().run_line_magic("autoreload", " 2")
from support_vector_machine import SVMModel 


svm = SVMModel(kernel='linear')
svm.run()


svm_rbf = SVMModel(kernel='rbf', C=10.0)
svm_rbf.run()


from convolutional_neural_network import CNNClassifier
cnn = CNNClassifier(epochs=10)
cnn.run()






