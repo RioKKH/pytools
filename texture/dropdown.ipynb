{
 "cells": [
  {
   "cell_type": "code",
   "execution_count": 22,
   "id": "e0a5dfb3-9726-4422-8159-0fb81edbffa2",
   "metadata": {},
   "outputs": [],
   "source": [
    "import cv2\n",
    "import numpy as np\n",
    "from ipywidgets import widgets\n",
    "from IPython.display import display\n",
    "from collections import OrderedDict"
   ]
  },
  {
   "cell_type": "code",
   "execution_count": 6,
   "id": "0c46bc27-e3af-4fd4-9412-64e3a4508e28",
   "metadata": {},
   "outputs": [],
   "source": [
    "w = widgets.Dropdown(\n",
    "    options = [\"1\", \"2\", \"3\"],\n",
    "    value = \"2\",\n",
    "    description = \"Number: \",\n",
    ")"
   ]
  },
  {
   "cell_type": "code",
   "execution_count": 7,
   "id": "f68bfcc9-5785-4bb7-9cf0-f55affadb91e",
   "metadata": {},
   "outputs": [
    {
     "data": {
      "application/vnd.jupyter.widget-view+json": {
       "model_id": "f632a623ccd74baa9a655a7fb908d9d4",
       "version_major": 2,
       "version_minor": 0
      },
      "text/plain": [
       "Dropdown(description='Number: ', index=1, options=('1', '2', '3'), value='2')"
      ]
     },
     "metadata": {},
     "output_type": "display_data"
    }
   ],
   "source": [
    "display(w)"
   ]
  },
  {
   "cell_type": "code",
   "execution_count": 9,
   "id": "7e3ebbce-7617-41b6-a412-96c83dee3c9f",
   "metadata": {},
   "outputs": [
    {
     "data": {
      "text/plain": [
       "'1'"
      ]
     },
     "execution_count": 9,
     "metadata": {},
     "output_type": "execute_result"
    }
   ],
   "source": [
    "w.value #現在選択されている値(value)を参照することが出来る　"
   ]
  },
  {
   "cell_type": "code",
   "execution_count": 10,
   "id": "39d1a036-45ed-46c9-885e-8a528aa124e8",
   "metadata": {},
   "outputs": [],
   "source": [
    "# 辞書を格納した場合\n",
    "w = widgets.Dropdown(\n",
    "    options = {\"One\": 1,\n",
    "               \"Two\": 2,\n",
    "               \"Three\": 3,\n",
    "               \"Four\": 4},\n",
    "    value = 2,\n",
    "    description = \"Number:\",\n",
    ")"
   ]
  },
  {
   "cell_type": "code",
   "execution_count": 11,
   "id": "baf3ad16-86df-456e-bec0-2f78ab76719e",
   "metadata": {},
   "outputs": [
    {
     "data": {
      "application/vnd.jupyter.widget-view+json": {
       "model_id": "222da03b4e114f479dba2983d0393c3f",
       "version_major": 2,
       "version_minor": 0
      },
      "text/plain": [
       "Dropdown(description='Number:', index=1, options={'One': 1, 'Two': 2, 'Three': 3, 'Four': 4}, value=2)"
      ]
     },
     "metadata": {},
     "output_type": "display_data"
    }
   ],
   "source": [
    "display(w)"
   ]
  },
  {
   "cell_type": "code",
   "execution_count": 14,
   "id": "eb89863a-03f7-45c9-b878-777e89788bcf",
   "metadata": {},
   "outputs": [],
   "source": [
    "w = widgets.Dropdown(\n",
    "    options = OrderedDict([\n",
    "        (\"One\",    1),\n",
    "        (\"Two\",    2),\n",
    "        (\"Three\",  3),\n",
    "        (\"Four\",   4)\n",
    "    ]),\n",
    "    value = 2,\n",
    "    description = \"Number:\"\n",
    ")"
   ]
  },
  {
   "cell_type": "code",
   "execution_count": 15,
   "id": "5cdbaac0-19c6-47ae-8706-a790cbd43ce9",
   "metadata": {},
   "outputs": [
    {
     "data": {
      "application/vnd.jupyter.widget-view+json": {
       "model_id": "8571737308334115857b52eedf8cec85",
       "version_major": 2,
       "version_minor": 0
      },
      "text/plain": [
       "Dropdown(description='Number:', index=1, options=OrderedDict([('One', 1), ('Two', 2), ('Three', 3), ('Four', 4…"
      ]
     },
     "metadata": {},
     "output_type": "display_data"
    }
   ],
   "source": [
    "display(w)"
   ]
  }
 ],
 "metadata": {
  "kernelspec": {
   "display_name": "Python 3 (ipykernel)",
   "language": "python",
   "name": "python3"
  },
  "language_info": {
   "codemirror_mode": {
    "name": "ipython",
    "version": 3
   },
   "file_extension": ".py",
   "mimetype": "text/x-python",
   "name": "python",
   "nbconvert_exporter": "python",
   "pygments_lexer": "ipython3",
   "version": "3.10.7"
  }
 },
 "nbformat": 4,
 "nbformat_minor": 5
}
